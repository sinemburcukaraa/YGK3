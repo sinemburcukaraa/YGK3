{
 "cells": [
  {
   "cell_type": "markdown",
   "id": "49e170b7-a0e2-4dec-b235-8e1e97f6b5a8",
   "metadata": {},
   "source": [
    "# Question 1"
   ]
  },
  {
   "cell_type": "code",
   "execution_count": 3,
   "id": "60bfc4fa-aa94-466f-a602-4f1be4ff465f",
   "metadata": {},
   "outputs": [],
   "source": [
    "def circle_area(pi, radius):\n",
    "    area = pi * (radius ** 2)\n",
    "    return area"
   ]
  },
  {
   "cell_type": "code",
   "execution_count": 5,
   "id": "b78b7a43-7b16-4eeb-9a6a-8c7b04acbea1",
   "metadata": {},
   "outputs": [
    {
     "name": "stdin",
     "output_type": "stream",
     "text": [
      "Pi değerini giriniz:  3\n",
      "Yarıçapı giriniz:  5\n"
     ]
    }
   ],
   "source": [
    "pi_value = float(input(\"Pi değerini giriniz: \"))\n",
    "radius = float(input(\"Yarıçapı giriniz: \"))"
   ]
  },
  {
   "cell_type": "code",
   "execution_count": 7,
   "id": "a3f64d7d-a718-4914-b209-f967dcb4196b",
   "metadata": {},
   "outputs": [
    {
     "name": "stdout",
     "output_type": "stream",
     "text": [
      "Dairenin alanı: 75.0\n"
     ]
    }
   ],
   "source": [
    "area = circle_area(pi_value, radius)\n",
    "print(f\"Dairenin alanı: {area}\")"
   ]
  },
  {
   "cell_type": "markdown",
   "id": "2e5c5e9b-c612-4135-b5d1-56f86598a1b2",
   "metadata": {},
   "source": [
    "# Question 2"
   ]
  },
  {
   "cell_type": "code",
   "execution_count": 12,
   "id": "97ba78b1-48d5-4016-8c7d-c6353f64221f",
   "metadata": {},
   "outputs": [
    {
     "name": "stdin",
     "output_type": "stream",
     "text": [
      "Faktöriyelini hesaplamak istediğiniz sayıyı giriniz:  6\n"
     ]
    },
    {
     "name": "stdout",
     "output_type": "stream",
     "text": [
      "Sonuç: 6! = 720\n"
     ]
    }
   ],
   "source": [
    "def faktoriyel(number):\n",
    "    result = 1\n",
    "    for i in range(1, number + 1):\n",
    "        result *= i\n",
    "    return result\n",
    "\n",
    "number = int(input(\"Faktöriyelini hesaplamak istediğiniz sayıyı giriniz: \"))\n",
    "\n",
    "result = faktoriyel(number)\n",
    "print(\"Sonuç: {}! = {}\".format(number, result))"
   ]
  },
  {
   "cell_type": "markdown",
   "id": "66cab28b-f1ab-4a7a-84a7-354754def625",
   "metadata": {},
   "source": [
    "# Question 3 "
   ]
  },
  {
   "cell_type": "code",
   "execution_count": 17,
   "id": "f970beee-bca4-43ca-b07f-cc33c5823375",
   "metadata": {},
   "outputs": [
    {
     "name": "stdin",
     "output_type": "stream",
     "text": [
      "Doğum yılınızı giriniz:  2000\n"
     ]
    },
    {
     "name": "stdout",
     "output_type": "stream",
     "text": [
      "Yaşınız: 24\n"
     ]
    }
   ],
   "source": [
    "def age_calculator(birthyear, currentYear):\n",
    "    age = currentYear - birthyear\n",
    "    return age\n",
    "    \n",
    "birthyear = int(input(\"Doğum yılınızı giriniz: \"))\n",
    "\n",
    "currentYear = 2024  \n",
    "age = age_calculator(birthyear, currentYear)\n",
    "print(f\"Yaşınız: {age}\")"
   ]
  },
  {
   "cell_type": "markdown",
   "id": "3f7ac7f8-550f-4377-94cd-b7339935225e",
   "metadata": {},
   "source": [
    "# Question 4"
   ]
  },
  {
   "cell_type": "code",
   "execution_count": 24,
   "id": "67ac4fc0-f75d-4b04-84a5-9a15fbdcfb2d",
   "metadata": {},
   "outputs": [
    {
     "name": "stdin",
     "output_type": "stream",
     "text": [
      "Doğum yılınızı giriniz:  2000\n",
      "İsminizi giriniz:  burcu\n"
     ]
    },
    {
     "name": "stdout",
     "output_type": "stream",
     "text": [
      "burcu, emekliliğinize 41 yıl kaldı.\n"
     ]
    }
   ],
   "source": [
    "def emeklilik_durumu(birthyear, name, currentYear):\n",
    "    age = age_calculator(birthyear, currentYear)\n",
    "    if age >= 65:\n",
    "        return f\"{name}, emekli oldunuz.\"\n",
    "    else:\n",
    "        years_remaining_retirement = 65 - age\n",
    "        return f\"{name}, emekliliğinize {emeklilige_kalan_yil} yıl kaldı.\"\n",
    "\n",
    "birthyear = int(input(\"Doğum yılınızı giriniz: \"))\n",
    "name = input(\"İsminizi giriniz: \")\n",
    "\n",
    "currentYear = 2024 \n",
    "mesaj = emeklilik_durumu(birthyear, name, currentYear)\n",
    "print(mesaj)"
   ]
  },
  {
   "cell_type": "code",
   "execution_count": null,
   "id": "4202ec94-b536-440b-aed5-4f77fe0a216a",
   "metadata": {},
   "outputs": [],
   "source": []
  }
 ],
 "metadata": {
  "kernelspec": {
   "display_name": "Python 3 (ipykernel)",
   "language": "python",
   "name": "python3"
  },
  "language_info": {
   "codemirror_mode": {
    "name": "ipython",
    "version": 3
   },
   "file_extension": ".py",
   "mimetype": "text/x-python",
   "name": "python",
   "nbconvert_exporter": "python",
   "pygments_lexer": "ipython3",
   "version": "3.12.4"
  }
 },
 "nbformat": 4,
 "nbformat_minor": 5
}
